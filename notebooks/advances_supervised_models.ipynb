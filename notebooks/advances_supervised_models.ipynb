{
 "cells": [
  {
   "cell_type": "markdown",
   "id": "a1f7b838",
   "metadata": {},
   "source": [
    "# Modelos supervisados avanzados"
   ]
  },
  {
   "cell_type": "code",
   "execution_count": 24,
   "id": "abe9f0ee",
   "metadata": {},
   "outputs": [],
   "source": [
    "import pandas as pd\n",
    "import numpy as np\n",
    "import mlflow\n",
    "\n",
    "from xgboost import XGBClassifier\n",
    "from lightgbm import LGBMClassifier\n",
    "from catboost import CatBoostClassifier\n",
    "\n",
    "from sklearn.pipeline import Pipeline\n",
    "from sklearn.impute import SimpleImputer\n",
    "from sklearn.dummy import DummyClassifier\n",
    "from sklearn.linear_model import LogisticRegression\n",
    "from sklearn.ensemble import RandomForestClassifier, StackingClassifier, BaggingClassifier, VotingClassifier\n",
    "from sklearn.model_selection import train_test_split\n",
    "from sklearn.tree import DecisionTreeClassifier\n",
    "from sklearn.metrics import accuracy_score, f1_score"
   ]
  },
  {
   "cell_type": "code",
   "execution_count": 3,
   "id": "c8d2cdd3",
   "metadata": {},
   "outputs": [],
   "source": [
    "df = pd.read_csv('../data/raw/hotel_bookings.csv')\n",
    "FEATURES = [\"lead_time\", \"stays_in_week_nights\", \"children\", \"adr\", \"booking_changes\" ]\n",
    "TARGET = 'is_canceled'\n",
    "X = df[FEATURES]\n",
    "y = df[TARGET]\n",
    "\n",
    "X_train, X_test, y_train, y_test = train_test_split(X, y, test_size=0.2, random_state=42)"
   ]
  },
  {
   "cell_type": "code",
   "execution_count": 4,
   "id": "4d78b7b3",
   "metadata": {},
   "outputs": [
    {
     "data": {
      "text/html": [
       "<pre style=\"white-space:pre;overflow-x:auto;line-height:normal;font-family:Menlo,'DejaVu Sans Mono',consolas,'Courier New',monospace\">Accessing as kerasPro\n",
       "</pre>\n"
      ],
      "text/plain": [
       "Accessing as kerasPro\n"
      ]
     },
     "metadata": {},
     "output_type": "display_data"
    },
    {
     "data": {
      "text/html": [
       "<pre style=\"white-space:pre;overflow-x:auto;line-height:normal;font-family:Menlo,'DejaVu Sans Mono',consolas,'Courier New',monospace\">Initialized MLflow to track repo <span style=\"color: #008000; text-decoration-color: #008000\">\"kerasPro/ML2_Clase\"</span>\n",
       "</pre>\n"
      ],
      "text/plain": [
       "Initialized MLflow to track repo \u001b[32m\"kerasPro/ML2_Clase\"\u001b[0m\n"
      ]
     },
     "metadata": {},
     "output_type": "display_data"
    },
    {
     "data": {
      "text/html": [
       "<pre style=\"white-space:pre;overflow-x:auto;line-height:normal;font-family:Menlo,'DejaVu Sans Mono',consolas,'Courier New',monospace\">Repository kerasPro/ML2_Clase initialized!\n",
       "</pre>\n"
      ],
      "text/plain": [
       "Repository kerasPro/ML2_Clase initialized!\n"
      ]
     },
     "metadata": {},
     "output_type": "display_data"
    }
   ],
   "source": [
    "import dagshub\n",
    "dagshub.init(repo_owner='kerasPro', repo_name='ML2_Clase', mlflow=True)\n",
    "import mlflow"
   ]
  },
  {
   "cell_type": "code",
   "execution_count": null,
   "id": "5d735f25",
   "metadata": {},
   "outputs": [],
   "source": [
    "# Este solo crea el experimento si no existe\n",
    "# mlflow.create_experiment(\"ML2 - Advanced_Supervised_Models\")"
   ]
  },
  {
   "cell_type": "code",
   "execution_count": null,
   "id": "0df2705f",
   "metadata": {},
   "outputs": [],
   "source": [
    "# No es necesario si se usa dagshub.init\n",
    "# mlflow.set_tracking_uri(\"https://dagshub.com/kerasPro/ML2_Clase.mlflow\")"
   ]
  },
  {
   "cell_type": "code",
   "execution_count": 5,
   "id": "e00bcd09",
   "metadata": {},
   "outputs": [
    {
     "data": {
      "text/plain": [
       "<Experiment: artifact_location='mlflow-artifacts:/759c95e8db454838a96e8cc6ca031a93', creation_time=1760745689163, experiment_id='0', last_update_time=1760745689163, lifecycle_stage='active', name='ML2 - Advanced_Supervised_Models', tags={}>"
      ]
     },
     "execution_count": 5,
     "metadata": {},
     "output_type": "execute_result"
    }
   ],
   "source": [
    "# Este crea y apunta al experimento si existe\n",
    "mlflow.set_experiment(\"ML2 - Advanced_Supervised_Models\")"
   ]
  },
  {
   "cell_type": "code",
   "execution_count": 6,
   "id": "ad502b44",
   "metadata": {},
   "outputs": [
    {
     "name": "stderr",
     "output_type": "stream",
     "text": [
      "2025/10/17 20:56:54 INFO mlflow.tracking.fluent: Autologging successfully enabled for lightgbm.\n",
      "2025/10/17 20:56:54 WARNING mlflow.utils.autologging_utils: MLflow sklearn autologging is known to be compatible with 0.24.1 <= scikit-learn <= 1.6.1, but the installed version is 1.7.2. If you encounter errors during autologging, try upgrading / downgrading scikit-learn to a compatible version, or try upgrading MLflow.\n",
      "2025/10/17 20:56:55 INFO mlflow.tracking.fluent: Autologging successfully enabled for sklearn.\n",
      "2025/10/17 20:56:55 WARNING mlflow.utils.autologging_utils: MLflow xgboost autologging is known to be compatible with 1.4.2 <= xgboost <= 3.0.0, but the installed version is 3.0.5. If you encounter errors during autologging, try upgrading / downgrading xgboost to a compatible version, or try upgrading MLflow.\n",
      "2025/10/17 20:56:55 INFO mlflow.tracking.fluent: Autologging successfully enabled for xgboost.\n"
     ]
    }
   ],
   "source": [
    "mlflow.autolog()"
   ]
  },
  {
   "cell_type": "markdown",
   "id": "06ae3a97",
   "metadata": {},
   "source": [
    "## Baseline"
   ]
  },
  {
   "cell_type": "code",
   "execution_count": 15,
   "id": "296829e5",
   "metadata": {},
   "outputs": [
    {
     "name": "stderr",
     "output_type": "stream",
     "text": [
      "2025/10/17 22:59:10 WARNING mlflow.utils.autologging_utils: MLflow autologging encountered a warning: \"/home/keras/wordspaces/ml2_clases/.venv/lib/python3.12/site-packages/mlflow/types/utils.py:452: UserWarning: Hint: Inferred schema contains integer column(s). Integer columns in Python cannot represent missing values. If your input data contains missing values at inference time, it will be encoded as floats and will cause a schema enforcement error. The best way to avoid this problem is to infer the model schema based on a realistic data sample (training dataset) that includes missing values. Alternatively, you can declare integer columns as doubles (float64) whenever these columns may have missing values. See `Handling Integers With Missing Values <https://www.mlflow.org/docs/latest/models.html#handling-integers-with-missing-values>`_ for more details.\"\n",
      "/home/keras/wordspaces/ml2_clases/.venv/lib/python3.12/site-packages/sklearn/metrics/_classification.py:1731: UndefinedMetricWarning: Precision is ill-defined and being set to 0.0 in labels with no predicted samples. Use `zero_division` parameter to control this behavior.\n",
      "  _warn_prf(average, modifier, f\"{metric.capitalize()} is\", result.shape[0])\n",
      "2025/10/17 22:59:13 WARNING mlflow.utils.autologging_utils: MLflow autologging encountered a warning: \"/home/keras/wordspaces/ml2_clases/.venv/lib/python3.12/site-packages/mlflow/types/utils.py:452: UserWarning: Hint: Inferred schema contains integer column(s). Integer columns in Python cannot represent missing values. If your input data contains missing values at inference time, it will be encoded as floats and will cause a schema enforcement error. The best way to avoid this problem is to infer the model schema based on a realistic data sample (training dataset) that includes missing values. Alternatively, you can declare integer columns as doubles (float64) whenever these columns may have missing values. See `Handling Integers With Missing Values <https://www.mlflow.org/docs/latest/models.html#handling-integers-with-missing-values>`_ for more details.\"\n",
      "2025/10/17 22:59:22 WARNING mlflow.utils.autologging_utils: MLflow autologging encountered a warning: \"/home/keras/wordspaces/ml2_clases/.venv/lib/python3.12/site-packages/mlflow/types/utils.py:452: UserWarning: Hint: Inferred schema contains integer column(s). Integer columns in Python cannot represent missing values. If your input data contains missing values at inference time, it will be encoded as floats and will cause a schema enforcement error. The best way to avoid this problem is to infer the model schema based on a realistic data sample (training dataset) that includes missing values. Alternatively, you can declare integer columns as doubles (float64) whenever these columns may have missing values. See `Handling Integers With Missing Values <https://www.mlflow.org/docs/latest/models.html#handling-integers-with-missing-values>`_ for more details.\"\n"
     ]
    },
    {
     "name": "stdout",
     "output_type": "stream",
     "text": [
      "🏃 View run Baseline - Dummy Classifier at: https://dagshub.com/kerasPro/ML2_Clase.mlflow/#/experiments/0/runs/b36ef37938bb4993824736fd3d0729be\n",
      "🧪 View experiment at: https://dagshub.com/kerasPro/ML2_Clase.mlflow/#/experiments/0\n"
     ]
    }
   ],
   "source": [
    "#mlflow.autolog()\n",
    "with mlflow.start_run(run_name= \"Baseline - Dummy Classifier\") as run:\n",
    "  algorithm = DummyClassifier(strategy='most_frequent')\n",
    "  algorithm.fit(X_train, y_train)\n",
    "  predictions = algorithm.predict(X_test)\n",
    "  _accuracy_score = accuracy_score(y_test, predictions)\n",
    "  _f1_score = f1_score(y_test, predictions)\n",
    "\n",
    "  mlflow.log_metrics({\n",
    "      \"accuracy\": _accuracy_score,\n",
    "      \"f1\": _f1_score\n",
    "  })\n"
   ]
  },
  {
   "cell_type": "markdown",
   "id": "e818fc7e",
   "metadata": {},
   "source": [
    "## Logistic Regressor"
   ]
  },
  {
   "cell_type": "code",
   "execution_count": 27,
   "id": "d95956cb",
   "metadata": {},
   "outputs": [
    {
     "name": "stderr",
     "output_type": "stream",
     "text": [
      "2025/10/17 23:30:14 WARNING mlflow.utils.autologging_utils: MLflow autologging encountered a warning: \"/home/keras/wordspaces/ml2_clases/.venv/lib/python3.12/site-packages/mlflow/types/utils.py:452: UserWarning: Hint: Inferred schema contains integer column(s). Integer columns in Python cannot represent missing values. If your input data contains missing values at inference time, it will be encoded as floats and will cause a schema enforcement error. The best way to avoid this problem is to infer the model schema based on a realistic data sample (training dataset) that includes missing values. Alternatively, you can declare integer columns as doubles (float64) whenever these columns may have missing values. See `Handling Integers With Missing Values <https://www.mlflow.org/docs/latest/models.html#handling-integers-with-missing-values>`_ for more details.\"\n",
      "2025/10/17 23:30:19 WARNING mlflow.utils.autologging_utils: MLflow autologging encountered a warning: \"/home/keras/wordspaces/ml2_clases/.venv/lib/python3.12/site-packages/mlflow/types/utils.py:452: UserWarning: Hint: Inferred schema contains integer column(s). Integer columns in Python cannot represent missing values. If your input data contains missing values at inference time, it will be encoded as floats and will cause a schema enforcement error. The best way to avoid this problem is to infer the model schema based on a realistic data sample (training dataset) that includes missing values. Alternatively, you can declare integer columns as doubles (float64) whenever these columns may have missing values. See `Handling Integers With Missing Values <https://www.mlflow.org/docs/latest/models.html#handling-integers-with-missing-values>`_ for more details.\"\n",
      "2025/10/17 23:30:28 WARNING mlflow.utils.autologging_utils: MLflow autologging encountered a warning: \"/home/keras/wordspaces/ml2_clases/.venv/lib/python3.12/site-packages/mlflow/types/utils.py:452: UserWarning: Hint: Inferred schema contains integer column(s). Integer columns in Python cannot represent missing values. If your input data contains missing values at inference time, it will be encoded as floats and will cause a schema enforcement error. The best way to avoid this problem is to infer the model schema based on a realistic data sample (training dataset) that includes missing values. Alternatively, you can declare integer columns as doubles (float64) whenever these columns may have missing values. See `Handling Integers With Missing Values <https://www.mlflow.org/docs/latest/models.html#handling-integers-with-missing-values>`_ for more details.\"\n"
     ]
    },
    {
     "name": "stdout",
     "output_type": "stream",
     "text": [
      "🏃 View run Logistic Regression at: https://dagshub.com/kerasPro/ML2_Clase.mlflow/#/experiments/0/runs/779c98406b0c4b26934ae266552f206c\n",
      "🧪 View experiment at: https://dagshub.com/kerasPro/ML2_Clase.mlflow/#/experiments/0\n"
     ]
    }
   ],
   "source": [
    "with mlflow.start_run(run_name=\"Logistic Regression\") as run:\n",
    "    algorithm = LogisticRegression(max_iter=1000)\n",
    "\n",
    "    pipeline = Pipeline(steps=[\n",
    "        ('imputer', SimpleImputer(strategy='mean')),\n",
    "        ('regresion_logistica', algorithm)\n",
    "    ])\n",
    "\n",
    "    pipeline.fit(X_train, y_train)\n",
    "\n",
    "    predictions = pipeline.predict(X_test)\n",
    "\n",
    "    _accuracy_score = accuracy_score(y_test, predictions)\n",
    "    _f1_score = f1_score(y_test, predictions)\n",
    "    \n",
    "    mlflow.log_metrics(\n",
    "        {\n",
    "            \"accuracy\": _accuracy_score,\n",
    "            \"f1\": _f1_score\n",
    "        }\n",
    "        \n",
    "    )"
   ]
  },
  {
   "cell_type": "markdown",
   "id": "1f51e7dc",
   "metadata": {},
   "source": [
    "## Ensamble 1: Baggin"
   ]
  },
  {
   "cell_type": "code",
   "execution_count": 25,
   "id": "92570a3c",
   "metadata": {},
   "outputs": [
    {
     "name": "stderr",
     "output_type": "stream",
     "text": [
      "2025/10/17 23:23:49 WARNING mlflow.utils.autologging_utils: MLflow autologging encountered a warning: \"/home/keras/wordspaces/ml2_clases/.venv/lib/python3.12/site-packages/mlflow/types/utils.py:452: UserWarning: Hint: Inferred schema contains integer column(s). Integer columns in Python cannot represent missing values. If your input data contains missing values at inference time, it will be encoded as floats and will cause a schema enforcement error. The best way to avoid this problem is to infer the model schema based on a realistic data sample (training dataset) that includes missing values. Alternatively, you can declare integer columns as doubles (float64) whenever these columns may have missing values. See `Handling Integers With Missing Values <https://www.mlflow.org/docs/latest/models.html#handling-integers-with-missing-values>`_ for more details.\"\n",
      "2025/10/17 23:23:57 WARNING mlflow.utils.autologging_utils: MLflow autologging encountered a warning: \"/home/keras/wordspaces/ml2_clases/.venv/lib/python3.12/site-packages/mlflow/types/utils.py:452: UserWarning: Hint: Inferred schema contains integer column(s). Integer columns in Python cannot represent missing values. If your input data contains missing values at inference time, it will be encoded as floats and will cause a schema enforcement error. The best way to avoid this problem is to infer the model schema based on a realistic data sample (training dataset) that includes missing values. Alternatively, you can declare integer columns as doubles (float64) whenever these columns may have missing values. See `Handling Integers With Missing Values <https://www.mlflow.org/docs/latest/models.html#handling-integers-with-missing-values>`_ for more details.\"\n",
      "2025/10/17 23:24:07 WARNING mlflow.utils.autologging_utils: MLflow autologging encountered a warning: \"/home/keras/wordspaces/ml2_clases/.venv/lib/python3.12/site-packages/mlflow/types/utils.py:452: UserWarning: Hint: Inferred schema contains integer column(s). Integer columns in Python cannot represent missing values. If your input data contains missing values at inference time, it will be encoded as floats and will cause a schema enforcement error. The best way to avoid this problem is to infer the model schema based on a realistic data sample (training dataset) that includes missing values. Alternatively, you can declare integer columns as doubles (float64) whenever these columns may have missing values. See `Handling Integers With Missing Values <https://www.mlflow.org/docs/latest/models.html#handling-integers-with-missing-values>`_ for more details.\"\n"
     ]
    },
    {
     "name": "stdout",
     "output_type": "stream",
     "text": [
      "🏃 View run Bagging Classifier at: https://dagshub.com/kerasPro/ML2_Clase.mlflow/#/experiments/0/runs/86d027a9f042403aba5e19ddc15f02d4\n",
      "🧪 View experiment at: https://dagshub.com/kerasPro/ML2_Clase.mlflow/#/experiments/0\n"
     ]
    }
   ],
   "source": [
    "with mlflow.start_run(run_name=\"Bagging Classifier\") as run:\n",
    "\n",
    "    algorithm = BaggingClassifier()\n",
    "    pipeline = Pipeline(\n",
    "        steps=[\n",
    "            (\"imputer\", SimpleImputer(strategy=\"mean\")),\n",
    "            (\"bagging\", algorithm)\n",
    "        ]\n",
    "    )\n",
    "    pipeline.fit(X_train, y_train)\n",
    "\n",
    "    predictions = pipeline.predict(X_test)\n",
    "\n",
    "    _accuracy_score = accuracy_score(y_test, predictions)\n",
    "    _f1_score = f1_score(y_test, predictions)\n",
    "    \n",
    "    mlflow.log_metrics(\n",
    "        {\n",
    "            \"accuracy\": _accuracy_score,\n",
    "            \"f1\": _f1_score\n",
    "        }\n",
    "        \n",
    "    )"
   ]
  },
  {
   "cell_type": "markdown",
   "id": "8b019094",
   "metadata": {},
   "source": [
    "## Ensamble 2: Random Forest"
   ]
  },
  {
   "cell_type": "code",
   "execution_count": 26,
   "id": "dbe863dc",
   "metadata": {},
   "outputs": [
    {
     "name": "stderr",
     "output_type": "stream",
     "text": [
      "2025/10/17 23:28:03 WARNING mlflow.utils.autologging_utils: MLflow autologging encountered a warning: \"/home/keras/wordspaces/ml2_clases/.venv/lib/python3.12/site-packages/mlflow/types/utils.py:452: UserWarning: Hint: Inferred schema contains integer column(s). Integer columns in Python cannot represent missing values. If your input data contains missing values at inference time, it will be encoded as floats and will cause a schema enforcement error. The best way to avoid this problem is to infer the model schema based on a realistic data sample (training dataset) that includes missing values. Alternatively, you can declare integer columns as doubles (float64) whenever these columns may have missing values. See `Handling Integers With Missing Values <https://www.mlflow.org/docs/latest/models.html#handling-integers-with-missing-values>`_ for more details.\"\n",
      "2025/10/17 23:28:30 WARNING mlflow.utils.autologging_utils: MLflow autologging encountered a warning: \"/home/keras/wordspaces/ml2_clases/.venv/lib/python3.12/site-packages/mlflow/types/utils.py:452: UserWarning: Hint: Inferred schema contains integer column(s). Integer columns in Python cannot represent missing values. If your input data contains missing values at inference time, it will be encoded as floats and will cause a schema enforcement error. The best way to avoid this problem is to infer the model schema based on a realistic data sample (training dataset) that includes missing values. Alternatively, you can declare integer columns as doubles (float64) whenever these columns may have missing values. See `Handling Integers With Missing Values <https://www.mlflow.org/docs/latest/models.html#handling-integers-with-missing-values>`_ for more details.\"\n",
      "2025/10/17 23:29:12 WARNING mlflow.utils.autologging_utils: MLflow autologging encountered a warning: \"/home/keras/wordspaces/ml2_clases/.venv/lib/python3.12/site-packages/mlflow/types/utils.py:452: UserWarning: Hint: Inferred schema contains integer column(s). Integer columns in Python cannot represent missing values. If your input data contains missing values at inference time, it will be encoded as floats and will cause a schema enforcement error. The best way to avoid this problem is to infer the model schema based on a realistic data sample (training dataset) that includes missing values. Alternatively, you can declare integer columns as doubles (float64) whenever these columns may have missing values. See `Handling Integers With Missing Values <https://www.mlflow.org/docs/latest/models.html#handling-integers-with-missing-values>`_ for more details.\"\n"
     ]
    },
    {
     "name": "stdout",
     "output_type": "stream",
     "text": [
      "🏃 View run Random Forest Classifier at: https://dagshub.com/kerasPro/ML2_Clase.mlflow/#/experiments/0/runs/d134f3e030bd4931a518b9b6505cb19c\n",
      "🧪 View experiment at: https://dagshub.com/kerasPro/ML2_Clase.mlflow/#/experiments/0\n"
     ]
    }
   ],
   "source": [
    "with mlflow.start_run(run_name=\"Random Forest Classifier\") as run:\n",
    "\n",
    "    algorithm = RandomForestClassifier()\n",
    "    pipeline = Pipeline(\n",
    "        steps=[\n",
    "            (\"imputer\", SimpleImputer(strategy=\"mean\")),\n",
    "            (\"random_forest\", algorithm)\n",
    "        ]\n",
    "    )\n",
    "    pipeline.fit(X_train, y_train)\n",
    "\n",
    "    predictions = pipeline.predict(X_test)\n",
    "\n",
    "    _accuracy_score = accuracy_score(y_test, predictions)\n",
    "    _f1_score = f1_score(y_test, predictions)\n",
    "    \n",
    "    mlflow.log_metrics(\n",
    "        {\n",
    "            \"accuracy\": _accuracy_score,\n",
    "            \"f1\": _f1_score\n",
    "        }\n",
    "        \n",
    "    )"
   ]
  },
  {
   "cell_type": "markdown",
   "id": "28efeb1e",
   "metadata": {},
   "source": [
    "## Ensamble 3: XGBosst"
   ]
  },
  {
   "cell_type": "code",
   "execution_count": 28,
   "id": "a774d662",
   "metadata": {},
   "outputs": [
    {
     "name": "stderr",
     "output_type": "stream",
     "text": [
      "2025/10/17 23:35:25 WARNING mlflow.utils.autologging_utils: MLflow autologging encountered a warning: \"/home/keras/wordspaces/ml2_clases/.venv/lib/python3.12/site-packages/mlflow/types/utils.py:452: UserWarning: Hint: Inferred schema contains integer column(s). Integer columns in Python cannot represent missing values. If your input data contains missing values at inference time, it will be encoded as floats and will cause a schema enforcement error. The best way to avoid this problem is to infer the model schema based on a realistic data sample (training dataset) that includes missing values. Alternatively, you can declare integer columns as doubles (float64) whenever these columns may have missing values. See `Handling Integers With Missing Values <https://www.mlflow.org/docs/latest/models.html#handling-integers-with-missing-values>`_ for more details.\"\n",
      "2025/10/17 23:35:27 WARNING mlflow.utils.autologging_utils: MLflow autologging encountered a warning: \"/home/keras/wordspaces/ml2_clases/.venv/lib/python3.12/site-packages/mlflow/types/utils.py:452: UserWarning: Hint: Inferred schema contains integer column(s). Integer columns in Python cannot represent missing values. If your input data contains missing values at inference time, it will be encoded as floats and will cause a schema enforcement error. The best way to avoid this problem is to infer the model schema based on a realistic data sample (training dataset) that includes missing values. Alternatively, you can declare integer columns as doubles (float64) whenever these columns may have missing values. See `Handling Integers With Missing Values <https://www.mlflow.org/docs/latest/models.html#handling-integers-with-missing-values>`_ for more details.\"\n",
      "2025/10/17 23:35:36 WARNING mlflow.utils.autologging_utils: MLflow autologging encountered a warning: \"/home/keras/wordspaces/ml2_clases/.venv/lib/python3.12/site-packages/mlflow/types/utils.py:452: UserWarning: Hint: Inferred schema contains integer column(s). Integer columns in Python cannot represent missing values. If your input data contains missing values at inference time, it will be encoded as floats and will cause a schema enforcement error. The best way to avoid this problem is to infer the model schema based on a realistic data sample (training dataset) that includes missing values. Alternatively, you can declare integer columns as doubles (float64) whenever these columns may have missing values. See `Handling Integers With Missing Values <https://www.mlflow.org/docs/latest/models.html#handling-integers-with-missing-values>`_ for more details.\"\n"
     ]
    },
    {
     "name": "stdout",
     "output_type": "stream",
     "text": [
      "🏃 View run XGBoost Classifier at: https://dagshub.com/kerasPro/ML2_Clase.mlflow/#/experiments/0/runs/b80e45978f6a4a42b1296a407336279f\n",
      "🧪 View experiment at: https://dagshub.com/kerasPro/ML2_Clase.mlflow/#/experiments/0\n"
     ]
    }
   ],
   "source": [
    "with mlflow.start_run(run_name=\"XGBoost Classifier\") as run:\n",
    "\n",
    "    algorithm = XGBClassifier()\n",
    "    pipeline = Pipeline(\n",
    "        steps=[\n",
    "            (\"imputer\", SimpleImputer(strategy=\"mean\")),\n",
    "            (\"xgboost\", algorithm)\n",
    "        ]\n",
    "    )\n",
    "    pipeline.fit(X_train, y_train)\n",
    "\n",
    "    predictions = pipeline.predict(X_test)\n",
    "\n",
    "    _accuracy_score = accuracy_score(y_test, predictions)\n",
    "    _f1_score = f1_score(y_test, predictions)\n",
    "    \n",
    "    mlflow.log_metrics(\n",
    "        {\n",
    "            \"accuracy\": _accuracy_score,\n",
    "            \"f1\": _f1_score\n",
    "        }\n",
    "        \n",
    "    )"
   ]
  },
  {
   "cell_type": "markdown",
   "id": "4f7cd851",
   "metadata": {},
   "source": [
    "## Ensamble 4: LightGBM"
   ]
  },
  {
   "cell_type": "code",
   "execution_count": null,
   "id": "a294d566",
   "metadata": {},
   "outputs": [],
   "source": [
    "with mlflow.start_run(run_name=\"LightGBM Classifier\") as run:\n",
    "\n",
    "    algorithm = LGBMClassifier()\n",
    "    pipeline = Pipeline(\n",
    "        steps=[\n",
    "            (\"imputer\", SimpleImputer(strategy=\"mean\")),\n",
    "            (\"lightgbm\", algorithm)\n",
    "        ]\n",
    "    )\n",
    "    pipeline.fit(X_train, y_train)\n",
    "\n",
    "    predictions = pipeline.predict(X_test)\n",
    "\n",
    "    _accuracy_score = accuracy_score(y_test, predictions)\n",
    "    _f1_score = f1_score(y_test, predictions)\n",
    "    \n",
    "    mlflow.log_metrics(\n",
    "        {\n",
    "            \"accuracy\": _accuracy_score,\n",
    "            \"f1\": _f1_score\n",
    "        }\n",
    "        \n",
    "    )"
   ]
  },
  {
   "cell_type": "markdown",
   "id": "e726d985",
   "metadata": {},
   "source": [
    "## Ensamble 5: CatBoost"
   ]
  },
  {
   "cell_type": "code",
   "execution_count": null,
   "id": "b1f05305",
   "metadata": {},
   "outputs": [],
   "source": [
    "with mlflow.start_run(run_name=\"CatBoost Classifier\") as run:\n",
    "\n",
    "    algorithm = CatBoostClassifier()\n",
    "    pipeline = Pipeline(\n",
    "        steps=[\n",
    "            (\"imputer\", SimpleImputer(strategy=\"mean\")),\n",
    "            (\"catboost\", algorithm)\n",
    "        ]\n",
    "    )\n",
    "    pipeline.fit(X_train, y_train)\n",
    "\n",
    "    predictions = pipeline.predict(X_test)\n",
    "\n",
    "    _accuracy_score = accuracy_score(y_test, predictions)\n",
    "    _f1_score = f1_score(y_test, predictions)\n",
    "    \n",
    "    mlflow.log_metrics(\n",
    "        {\n",
    "            \"accuracy\": _accuracy_score,\n",
    "            \"f1\": _f1_score\n",
    "        }\n",
    "        \n",
    "    )"
   ]
  },
  {
   "cell_type": "markdown",
   "id": "278cbe1b",
   "metadata": {},
   "source": [
    "## Ensamble 6: Voting"
   ]
  },
  {
   "cell_type": "code",
   "execution_count": null,
   "id": "f0718ad2",
   "metadata": {},
   "outputs": [],
   "source": [
    "with mlflow.start_run(run_name=\"voting Classifier \") as run:\n",
    "\n",
    "    algorithm1 = RandomForestClassifier()\n",
    "    algorithm2 = BaggingClassifier()\n",
    "    algorithm3 = CatBoostClassifier()\n",
    "    voting_classifier = VotingClassifier(\n",
    "        estimators=[\n",
    "            ('random_forest', algorithm1),\n",
    "            ('bagging', algorithm2),\n",
    "            ('catboost', algorithm3)\n",
    "        ],\n",
    "        voting='hard' #mayoría de votos, 'soft' para probabilidades\n",
    "    )\n",
    "    pipeline = Pipeline(\n",
    "        steps=[\n",
    "            (\"imputer\", SimpleImputer(strategy=\"mean\")),\n",
    "            (\"voting\", voting_classifier)\n",
    "        ]\n",
    "    )\n",
    "    pipeline.fit(X_train, y_train)\n",
    "\n",
    "    predictions = pipeline.predict(X_test)\n",
    "\n",
    "    _accuracy_score = accuracy_score(y_test, predictions)\n",
    "    _f1_score = f1_score(y_test, predictions)\n",
    "    \n",
    "    mlflow.log_metrics(\n",
    "        {\n",
    "            \"accuracy\": _accuracy_score,\n",
    "            \"f1\": _f1_score\n",
    "        }\n",
    "        \n",
    "    )"
   ]
  },
  {
   "cell_type": "code",
   "execution_count": null,
   "id": "e785ee7d",
   "metadata": {},
   "outputs": [],
   "source": [
    "with mlflow.start_run(run_name=\"voting Classifier _ Probabilidades\") as run:\n",
    "\n",
    "    algorithm1 = RandomForestClassifier()\n",
    "    algorithm2 = BaggingClassifier()\n",
    "    algorithm3 = CatBoostClassifier()\n",
    "    voting_classifier = VotingClassifier(\n",
    "        estimators=[\n",
    "            ('random_forest', algorithm1),\n",
    "            ('bagging', algorithm2),\n",
    "            ('catboost', algorithm3)\n",
    "        ],\n",
    "        voting='soft' \n",
    "    )\n",
    "    pipeline = Pipeline(\n",
    "        steps=[\n",
    "            (\"imputer\", SimpleImputer(strategy=\"mean\")),\n",
    "            (\"voting\", voting_classifier)\n",
    "        ]\n",
    "    )\n",
    "    pipeline.fit(X_train, y_train)\n",
    "\n",
    "    predictions = pipeline.predict(X_test)\n",
    "\n",
    "    _accuracy_score = accuracy_score(y_test, predictions)\n",
    "    _f1_score = f1_score(y_test, predictions)\n",
    "    \n",
    "    mlflow.log_metrics(\n",
    "        {\n",
    "            \"accuracy\": _accuracy_score,\n",
    "            \"f1\": _f1_score\n",
    "        }\n",
    "        \n",
    "    )"
   ]
  },
  {
   "cell_type": "markdown",
   "id": "b90a6e14",
   "metadata": {},
   "source": [
    "## Ensamble 7: Stacking"
   ]
  },
  {
   "cell_type": "code",
   "execution_count": null,
   "id": "e9f88c47",
   "metadata": {},
   "outputs": [],
   "source": [
    "with mlflow.start_run(run_name=\"Stacking Classifier\") as run:\n",
    "\n",
    "    algorithm1 = RandomForestClassifier()\n",
    "    algorithm2 = BaggingClassifier()\n",
    "    algorithm3 = CatBoostClassifier()\n",
    "    stacking_classifier = StackingClassifier(\n",
    "        estimators=[\n",
    "            ('random_forest', algorithm1),\n",
    "            ('bagging', algorithm2),\n",
    "            ('catboost', algorithm3)\n",
    "        ],\n",
    "        final_estimator=XGBClassifier()\n",
    "    )\n",
    "    pipeline = Pipeline(\n",
    "        steps=[\n",
    "            (\"imputer\", SimpleImputer(strategy=\"mean\")),\n",
    "            (\"stacking\", stacking_classifier)\n",
    "        ]\n",
    "    )\n",
    "    pipeline.fit(X_train, y_train)\n",
    "\n",
    "    predictions = pipeline.predict(X_test)\n",
    "\n",
    "    _accuracy_score = accuracy_score(y_test, predictions)\n",
    "    _f1_score = f1_score(y_test, predictions)\n",
    "\n",
    "    mlflow.log_metrics(\n",
    "        {\n",
    "            \"accuracy\": _accuracy_score,\n",
    "            \"f1\": _f1_score\n",
    "        }\n",
    "\n",
    "    )"
   ]
  }
 ],
 "metadata": {
  "kernelspec": {
   "display_name": "ml2-clases",
   "language": "python",
   "name": "python3"
  },
  "language_info": {
   "codemirror_mode": {
    "name": "ipython",
    "version": 3
   },
   "file_extension": ".py",
   "mimetype": "text/x-python",
   "name": "python",
   "nbconvert_exporter": "python",
   "pygments_lexer": "ipython3",
   "version": "3.12.10"
  }
 },
 "nbformat": 4,
 "nbformat_minor": 5
}
