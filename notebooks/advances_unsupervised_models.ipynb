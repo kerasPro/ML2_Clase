{
 "cells": [
  {
   "cell_type": "markdown",
   "id": "d541d398",
   "metadata": {},
   "source": [
    "# Modelos Avanzados No Supervizados"
   ]
  },
  {
   "cell_type": "markdown",
   "id": "ad8f0b39",
   "metadata": {},
   "source": [
    "Dataset: https://www.kaggle.com/datasets/vjchoudhary7/customer-segmentation-tutorial-in-python"
   ]
  },
  {
   "cell_type": "code",
   "execution_count": 2,
   "id": "0b84c52f",
   "metadata": {},
   "outputs": [
    {
     "name": "stderr",
     "output_type": "stream",
     "text": [
      "/home/keras/wordspaces/ml2_clases/.venv/lib/python3.12/site-packages/tqdm/auto.py:21: TqdmWarning: IProgress not found. Please update jupyter and ipywidgets. See https://ipywidgets.readthedocs.io/en/stable/user_install.html\n",
      "  from .autonotebook import tqdm as notebook_tqdm\n"
     ]
    }
   ],
   "source": [
    "import pandas as pd\n",
    "import numpy as np\n",
    "import seaborn as sns\n",
    "import matplotlib.pyplot as plt\n",
    "\n",
    "from sklearn.cluster import KMeans, DBSCAN, OPTICS\n",
    "from sklearn.mixture import GaussianMixture\n",
    "from sklearn.decomposition import NMF, PCA\n",
    "from sklearn.manifold import TSNE\n",
    "from sklearn.pipeline import Pipeline\n",
    "\n",
    "from sklearn.preprocessing import StandardScaler, MinMaxScaler, RobustScaler\n",
    "from sklearn.metrics import calinski_harabasz_score, davies_bouldin_score, silhouette_score\n",
    "\n",
    "import umap\n",
    "\n",
    "sns.set_style(\"whitegrid\")"
   ]
  },
  {
   "cell_type": "code",
   "execution_count": 3,
   "id": "56963ec9",
   "metadata": {},
   "outputs": [
    {
     "data": {
      "application/vnd.microsoft.datawrangler.viewer.v0+json": {
       "columns": [
        {
         "name": "index",
         "rawType": "int64",
         "type": "integer"
        },
        {
         "name": "CustomerID",
         "rawType": "int64",
         "type": "integer"
        },
        {
         "name": "Gender",
         "rawType": "object",
         "type": "string"
        },
        {
         "name": "Age",
         "rawType": "int64",
         "type": "integer"
        },
        {
         "name": "Annual Income (k$)",
         "rawType": "int64",
         "type": "integer"
        },
        {
         "name": "Spending Score (1-100)",
         "rawType": "int64",
         "type": "integer"
        }
       ],
       "ref": "47d2558e-c547-4da8-8070-59ea4a5516ae",
       "rows": [
        [
         "0",
         "1",
         "Male",
         "19",
         "15",
         "39"
        ],
        [
         "1",
         "2",
         "Male",
         "21",
         "15",
         "81"
        ],
        [
         "2",
         "3",
         "Female",
         "20",
         "16",
         "6"
        ],
        [
         "3",
         "4",
         "Female",
         "23",
         "16",
         "77"
        ],
        [
         "4",
         "5",
         "Female",
         "31",
         "17",
         "40"
        ],
        [
         "5",
         "6",
         "Female",
         "22",
         "17",
         "76"
        ],
        [
         "6",
         "7",
         "Female",
         "35",
         "18",
         "6"
        ],
        [
         "7",
         "8",
         "Female",
         "23",
         "18",
         "94"
        ],
        [
         "8",
         "9",
         "Male",
         "64",
         "19",
         "3"
        ],
        [
         "9",
         "10",
         "Female",
         "30",
         "19",
         "72"
        ],
        [
         "10",
         "11",
         "Male",
         "67",
         "19",
         "14"
        ],
        [
         "11",
         "12",
         "Female",
         "35",
         "19",
         "99"
        ],
        [
         "12",
         "13",
         "Female",
         "58",
         "20",
         "15"
        ],
        [
         "13",
         "14",
         "Female",
         "24",
         "20",
         "77"
        ],
        [
         "14",
         "15",
         "Male",
         "37",
         "20",
         "13"
        ],
        [
         "15",
         "16",
         "Male",
         "22",
         "20",
         "79"
        ],
        [
         "16",
         "17",
         "Female",
         "35",
         "21",
         "35"
        ],
        [
         "17",
         "18",
         "Male",
         "20",
         "21",
         "66"
        ],
        [
         "18",
         "19",
         "Male",
         "52",
         "23",
         "29"
        ],
        [
         "19",
         "20",
         "Female",
         "35",
         "23",
         "98"
        ],
        [
         "20",
         "21",
         "Male",
         "35",
         "24",
         "35"
        ],
        [
         "21",
         "22",
         "Male",
         "25",
         "24",
         "73"
        ],
        [
         "22",
         "23",
         "Female",
         "46",
         "25",
         "5"
        ],
        [
         "23",
         "24",
         "Male",
         "31",
         "25",
         "73"
        ],
        [
         "24",
         "25",
         "Female",
         "54",
         "28",
         "14"
        ],
        [
         "25",
         "26",
         "Male",
         "29",
         "28",
         "82"
        ],
        [
         "26",
         "27",
         "Female",
         "45",
         "28",
         "32"
        ],
        [
         "27",
         "28",
         "Male",
         "35",
         "28",
         "61"
        ],
        [
         "28",
         "29",
         "Female",
         "40",
         "29",
         "31"
        ],
        [
         "29",
         "30",
         "Female",
         "23",
         "29",
         "87"
        ],
        [
         "30",
         "31",
         "Male",
         "60",
         "30",
         "4"
        ],
        [
         "31",
         "32",
         "Female",
         "21",
         "30",
         "73"
        ],
        [
         "32",
         "33",
         "Male",
         "53",
         "33",
         "4"
        ],
        [
         "33",
         "34",
         "Male",
         "18",
         "33",
         "92"
        ],
        [
         "34",
         "35",
         "Female",
         "49",
         "33",
         "14"
        ],
        [
         "35",
         "36",
         "Female",
         "21",
         "33",
         "81"
        ],
        [
         "36",
         "37",
         "Female",
         "42",
         "34",
         "17"
        ],
        [
         "37",
         "38",
         "Female",
         "30",
         "34",
         "73"
        ],
        [
         "38",
         "39",
         "Female",
         "36",
         "37",
         "26"
        ],
        [
         "39",
         "40",
         "Female",
         "20",
         "37",
         "75"
        ],
        [
         "40",
         "41",
         "Female",
         "65",
         "38",
         "35"
        ],
        [
         "41",
         "42",
         "Male",
         "24",
         "38",
         "92"
        ],
        [
         "42",
         "43",
         "Male",
         "48",
         "39",
         "36"
        ],
        [
         "43",
         "44",
         "Female",
         "31",
         "39",
         "61"
        ],
        [
         "44",
         "45",
         "Female",
         "49",
         "39",
         "28"
        ],
        [
         "45",
         "46",
         "Female",
         "24",
         "39",
         "65"
        ],
        [
         "46",
         "47",
         "Female",
         "50",
         "40",
         "55"
        ],
        [
         "47",
         "48",
         "Female",
         "27",
         "40",
         "47"
        ],
        [
         "48",
         "49",
         "Female",
         "29",
         "40",
         "42"
        ],
        [
         "49",
         "50",
         "Female",
         "31",
         "40",
         "42"
        ]
       ],
       "shape": {
        "columns": 5,
        "rows": 200
       }
      },
      "text/html": [
       "<div>\n",
       "<style scoped>\n",
       "    .dataframe tbody tr th:only-of-type {\n",
       "        vertical-align: middle;\n",
       "    }\n",
       "\n",
       "    .dataframe tbody tr th {\n",
       "        vertical-align: top;\n",
       "    }\n",
       "\n",
       "    .dataframe thead th {\n",
       "        text-align: right;\n",
       "    }\n",
       "</style>\n",
       "<table border=\"1\" class=\"dataframe\">\n",
       "  <thead>\n",
       "    <tr style=\"text-align: right;\">\n",
       "      <th></th>\n",
       "      <th>CustomerID</th>\n",
       "      <th>Gender</th>\n",
       "      <th>Age</th>\n",
       "      <th>Annual Income (k$)</th>\n",
       "      <th>Spending Score (1-100)</th>\n",
       "    </tr>\n",
       "  </thead>\n",
       "  <tbody>\n",
       "    <tr>\n",
       "      <th>0</th>\n",
       "      <td>1</td>\n",
       "      <td>Male</td>\n",
       "      <td>19</td>\n",
       "      <td>15</td>\n",
       "      <td>39</td>\n",
       "    </tr>\n",
       "    <tr>\n",
       "      <th>1</th>\n",
       "      <td>2</td>\n",
       "      <td>Male</td>\n",
       "      <td>21</td>\n",
       "      <td>15</td>\n",
       "      <td>81</td>\n",
       "    </tr>\n",
       "    <tr>\n",
       "      <th>2</th>\n",
       "      <td>3</td>\n",
       "      <td>Female</td>\n",
       "      <td>20</td>\n",
       "      <td>16</td>\n",
       "      <td>6</td>\n",
       "    </tr>\n",
       "    <tr>\n",
       "      <th>3</th>\n",
       "      <td>4</td>\n",
       "      <td>Female</td>\n",
       "      <td>23</td>\n",
       "      <td>16</td>\n",
       "      <td>77</td>\n",
       "    </tr>\n",
       "    <tr>\n",
       "      <th>4</th>\n",
       "      <td>5</td>\n",
       "      <td>Female</td>\n",
       "      <td>31</td>\n",
       "      <td>17</td>\n",
       "      <td>40</td>\n",
       "    </tr>\n",
       "    <tr>\n",
       "      <th>...</th>\n",
       "      <td>...</td>\n",
       "      <td>...</td>\n",
       "      <td>...</td>\n",
       "      <td>...</td>\n",
       "      <td>...</td>\n",
       "    </tr>\n",
       "    <tr>\n",
       "      <th>195</th>\n",
       "      <td>196</td>\n",
       "      <td>Female</td>\n",
       "      <td>35</td>\n",
       "      <td>120</td>\n",
       "      <td>79</td>\n",
       "    </tr>\n",
       "    <tr>\n",
       "      <th>196</th>\n",
       "      <td>197</td>\n",
       "      <td>Female</td>\n",
       "      <td>45</td>\n",
       "      <td>126</td>\n",
       "      <td>28</td>\n",
       "    </tr>\n",
       "    <tr>\n",
       "      <th>197</th>\n",
       "      <td>198</td>\n",
       "      <td>Male</td>\n",
       "      <td>32</td>\n",
       "      <td>126</td>\n",
       "      <td>74</td>\n",
       "    </tr>\n",
       "    <tr>\n",
       "      <th>198</th>\n",
       "      <td>199</td>\n",
       "      <td>Male</td>\n",
       "      <td>32</td>\n",
       "      <td>137</td>\n",
       "      <td>18</td>\n",
       "    </tr>\n",
       "    <tr>\n",
       "      <th>199</th>\n",
       "      <td>200</td>\n",
       "      <td>Male</td>\n",
       "      <td>30</td>\n",
       "      <td>137</td>\n",
       "      <td>83</td>\n",
       "    </tr>\n",
       "  </tbody>\n",
       "</table>\n",
       "<p>200 rows × 5 columns</p>\n",
       "</div>"
      ],
      "text/plain": [
       "     CustomerID  Gender  Age  Annual Income (k$)  Spending Score (1-100)\n",
       "0             1    Male   19                  15                      39\n",
       "1             2    Male   21                  15                      81\n",
       "2             3  Female   20                  16                       6\n",
       "3             4  Female   23                  16                      77\n",
       "4             5  Female   31                  17                      40\n",
       "..          ...     ...  ...                 ...                     ...\n",
       "195         196  Female   35                 120                      79\n",
       "196         197  Female   45                 126                      28\n",
       "197         198    Male   32                 126                      74\n",
       "198         199    Male   32                 137                      18\n",
       "199         200    Male   30                 137                      83\n",
       "\n",
       "[200 rows x 5 columns]"
      ]
     },
     "execution_count": 3,
     "metadata": {},
     "output_type": "execute_result"
    }
   ],
   "source": [
    "customer_data_raw = pd.read_csv(\"../data/raw/Mall_Customers.csv\")\n",
    "customer_data_raw"
   ]
  },
  {
   "cell_type": "code",
   "execution_count": 4,
   "id": "8c019278",
   "metadata": {},
   "outputs": [
    {
     "name": "stdout",
     "output_type": "stream",
     "text": [
      "<class 'pandas.core.frame.DataFrame'>\n",
      "RangeIndex: 200 entries, 0 to 199\n",
      "Data columns (total 5 columns):\n",
      " #   Column                  Non-Null Count  Dtype \n",
      "---  ------                  --------------  ----- \n",
      " 0   CustomerID              200 non-null    int64 \n",
      " 1   Gender                  200 non-null    object\n",
      " 2   Age                     200 non-null    int64 \n",
      " 3   Annual Income (k$)      200 non-null    int64 \n",
      " 4   Spending Score (1-100)  200 non-null    int64 \n",
      "dtypes: int64(4), object(1)\n",
      "memory usage: 7.9+ KB\n"
     ]
    }
   ],
   "source": [
    "customer_data_raw.info()"
   ]
  },
  {
   "cell_type": "markdown",
   "id": "c5c3be53",
   "metadata": {},
   "source": [
    "## Software para el ejercicio"
   ]
  },
  {
   "cell_type": "code",
   "execution_count": 26,
   "id": "e0d9ed73",
   "metadata": {},
   "outputs": [],
   "source": [
    "class UnsupervisedProcessor:\n",
    "    def __init__(self, dataframe: pd.DataFrame, scaler, cluster_algorithm, dim_reduction_algorithm) -> None:\n",
    "        self.original_data = dataframe.copy()\n",
    "        self.scaler = scaler\n",
    "        self.cluster_algorithm = cluster_algorithm\n",
    "        self.features = None\n",
    "        self.dim_reduction_algorithm = dim_reduction_algorithm\n",
    "        self.cluster_Pipeline = Pipeline([\n",
    "            ('scaler', self.scaler),\n",
    "            ('clustering', self.cluster_algorithm)\n",
    "        ])\n",
    "        self.dim_reduction_pipeline = Pipeline([\n",
    "            ('scaler', self.scaler),\n",
    "            ('dim_reduction', self.dim_reduction_algorithm)\n",
    "        ])\n",
    "        self.processed_data = None\n",
    "\n",
    "    def __process_clustering(self, features: list):\n",
    "        data = self.original_data[features]\n",
    "        self.cluster_Pipeline.fit(data)\n",
    "        labels = self.cluster_Pipeline.named_steps['clustering'].labels_\n",
    "        clustering_df = self.cluster_Pipeline.named_steps['scaler'].transform(data)\n",
    "\n",
    "        clustering_df = pd.concat([\n",
    "            self.original_data['CustomerID'],\n",
    "            pd.DataFrame(clustering_df, columns= features),\n",
    "            pd.DataFrame(labels, columns=['Cluster'])\n",
    "        ], axis=1)\n",
    "\n",
    "        return clustering_df\n",
    "\n",
    "    def __process_dim_reduction(self, features: list):\n",
    "        data = self.original_data[features]\n",
    "        self.dim_reduction_pipeline.fit(data)\n",
    "        dim_reduced_data = self.dim_reduction_pipeline.fit_transform(data)\n",
    "\n",
    "        return pd.concat([\n",
    "            self.original_data['CustomerID'],\n",
    "            pd.DataFrame(dim_reduced_data, columns=[f'Component_{i+1}' for i in range(dim_reduced_data.shape[1])])\n",
    "        ], axis=1)\n",
    "    \n",
    "    \n",
    "    def run(self, features: list) -> pd.DataFrame:\n",
    "        self.features = features\n",
    "        _clustering_results = self.__process_clustering(features=features)\n",
    "        _dim_reduction_results = self.__process_dim_reduction(features=features)\n",
    "        self.processed_data = _clustering_results.merge(_dim_reduction_results, on='CustomerID')\n",
    "        return self.processed_data\n",
    "\n",
    "\n",
    "    def calculate_clustering_metrics(self) -> None:\n",
    "        metrics = {\n",
    "            \"Silhouette Score\": silhouette_score(self.original_data[self.features], self.processed_data['Cluster']),\n",
    "            \"Calinski-Harabasz Index\": calinski_harabasz_score(self.original_data[self.features], self.processed_data['Cluster']),\n",
    "            \"Davies-Bouldin Index\": davies_bouldin_score(self.original_data[self.features], self.processed_data['Cluster'])\n",
    "        }\n",
    "\n",
    "        print(\"--- Métricas del Clustering ---\")\n",
    "        for key, value in metrics.items():\n",
    "            print(f\"{key}: {value:.4f}\")\n",
    "            \n",
    "        self.plot_results()\n",
    "\n",
    "    def plot_results(self) -> None:\n",
    "        sns.scatterplot(data=self.processed_data, x='Component_1', y='Component_2', hue='Cluster', palette='Set2')\n",
    "        plt.title('Clustering Results')\n",
    "        "
   ]
  },
  {
   "cell_type": "code",
   "execution_count": 47,
   "id": "20955e3c",
   "metadata": {},
   "outputs": [],
   "source": [
    "processor = UnsupervisedProcessor(\n",
    "    dataframe=customer_data_raw, \n",
    "    scaler=StandardScaler(), \n",
    "    cluster_algorithm=DBSCAN(eps=0.4, min_samples=5),\n",
    "    dim_reduction_algorithm=umap.UMAP(n_components=2)\n",
    ")"
   ]
  },
  {
   "cell_type": "code",
   "execution_count": 48,
   "id": "827e7832",
   "metadata": {},
   "outputs": [
    {
     "name": "stdout",
     "output_type": "stream",
     "text": [
      "--- Métricas del Clustering ---\n",
      "Silhouette Score: 0.0587\n",
      "Calinski-Harabasz Index: 14.9678\n",
      "Davies-Bouldin Index: 1.9986\n"
     ]
    },
    {
     "data": {
      "image/png": "[encoded data removed]",
      "text/plain": [
       "<Figure size 640x480 with 1 Axes>"
      ]
     },
     "metadata": {},
     "output_type": "display_data"
    }
   ],
   "source": [
    "processed_data = processor.run(features=['Age', 'Annual Income (k$)', 'Spending Score (1-100)'])\n",
    "processor.calculate_clustering_metrics()"
   ]
  }
 ],
 "metadata": {
  "kernelspec": {
   "display_name": "ml2-clases",
   "language": "python",
   "name": "python3"
  },
  "language_info": {
   "codemirror_mode": {
    "name": "ipython",
    "version": 3
   },
   "file_extension": ".py",
   "mimetype": "text/x-python",
   "name": "python",
   "nbconvert_exporter": "python",
   "pygments_lexer": "ipython3",
   "version": "3.12.10"
  }
 },
 "nbformat": 4,
 "nbformat_minor": 5
}
